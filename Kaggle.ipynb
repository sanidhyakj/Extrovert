{
  "nbformat": 4,
  "nbformat_minor": 0,
  "metadata": {
    "colab": {
      "provenance": [],
      "gpuType": "T4",
      "include_colab_link": true
    },
    "kernelspec": {
      "name": "python3",
      "display_name": "Python 3"
    },
    "language_info": {
      "name": "python"
    },
    "accelerator": "GPU"
  },
  "cells": [
    {
      "cell_type": "markdown",
      "metadata": {
        "id": "view-in-github",
        "colab_type": "text"
      },
      "source": [
        "<a href=\"https://colab.research.google.com/github/sanidhyakj/Extrovert/blob/main/Kaggle.ipynb\" target=\"_parent\"><img src=\"https://colab.research.google.com/assets/colab-badge.svg\" alt=\"Open In Colab\"/></a>"
      ]
    },
    {
      "cell_type": "code",
      "execution_count": 23,
      "metadata": {
        "id": "Mhp9Kv1WFgwP"
      },
      "outputs": [],
      "source": []
    },
    {
      "cell_type": "code",
      "source": [
        "import pandas as pd\n",
        "import numpy as np\n",
        "import matplotlib.pyplot as plt\n",
        "import seaborn as sns\n",
        "sns.set(style='whitegrid')\n"
      ],
      "metadata": {
        "id": "2uYqONBbiCvf"
      },
      "execution_count": 2,
      "outputs": []
    },
    {
      "cell_type": "code",
      "source": [
        "train = pd.read_csv('/content/Extrovert/train.csv')\n",
        "print(\"✅ Data loaded successfully!\")\n"
      ],
      "metadata": {
        "colab": {
          "base_uri": "https://localhost:8080/"
        },
        "id": "tCgdtet8iZz-",
        "outputId": "c3ec53cf-25b2-4415-f1cb-d56df732d976"
      },
      "execution_count": 3,
      "outputs": [
        {
          "output_type": "stream",
          "name": "stdout",
          "text": [
            "✅ Data loaded successfully!\n"
          ]
        }
      ]
    },
    {
      "cell_type": "code",
      "source": [
        "print(train.head())"
      ],
      "metadata": {
        "colab": {
          "base_uri": "https://localhost:8080/"
        },
        "id": "X0OeLv39ic93",
        "outputId": "09f43d77-db49-42ee-9642-b8391a3810d5"
      },
      "execution_count": 4,
      "outputs": [
        {
          "output_type": "stream",
          "name": "stdout",
          "text": [
            "   id  Time_spent_Alone Stage_fear  Social_event_attendance  Going_outside  \\\n",
            "0   0               0.0         No                      6.0            4.0   \n",
            "1   1               1.0         No                      7.0            3.0   \n",
            "2   2               6.0        Yes                      1.0            0.0   \n",
            "3   3               3.0         No                      7.0            3.0   \n",
            "4   4               1.0         No                      4.0            4.0   \n",
            "\n",
            "  Drained_after_socializing  Friends_circle_size  Post_frequency Personality  \n",
            "0                        No                 15.0             5.0   Extrovert  \n",
            "1                        No                 10.0             8.0   Extrovert  \n",
            "2                       NaN                  3.0             0.0   Introvert  \n",
            "3                        No                 11.0             5.0   Extrovert  \n",
            "4                        No                 13.0             NaN   Extrovert  \n"
          ]
        }
      ]
    },
    {
      "cell_type": "code",
      "source": [
        "print(\"\\nData Types:\")\n",
        "print(train.dtypes)\n",
        "\n",
        "print(\"\\nDataset Shape:\", train.shape)\n",
        "\n",
        "print(\"\\nSummary Statistics:\")\n",
        "print(train.describe())\n"
      ],
      "metadata": {
        "colab": {
          "base_uri": "https://localhost:8080/"
        },
        "id": "Z_EjNz8yigEM",
        "outputId": "a7b8aaac-3b05-41e0-9ad6-42d93c1d569a"
      },
      "execution_count": 24,
      "outputs": [
        {
          "output_type": "stream",
          "name": "stdout",
          "text": [
            "\n",
            "Data Types:\n",
            "id                             int64\n",
            "Time_spent_Alone             float64\n",
            "Stage_fear                     int64\n",
            "Social_event_attendance      float64\n",
            "Going_outside                float64\n",
            "Drained_after_socializing      int64\n",
            "Friends_circle_size          float64\n",
            "Post_frequency               float64\n",
            "Personality                   object\n",
            "target                         int64\n",
            "social_index                 float64\n",
            "introvert_index              float64\n",
            "social_ratio                 float64\n",
            "dtype: object\n",
            "\n",
            "Dataset Shape: (18524, 13)\n",
            "\n",
            "Summary Statistics:\n",
            "                 id  Time_spent_Alone    Stage_fear  Social_event_attendance  \\\n",
            "count  18524.000000      18524.000000  18524.000000             18524.000000   \n",
            "mean    9261.500000          3.064673      0.217124                 5.248219   \n",
            "std     5347.562529          2.919057      0.412299                 2.665002   \n",
            "min        0.000000          0.000000      0.000000                 0.000000   \n",
            "25%     4630.750000          1.000000      0.000000                 3.000000   \n",
            "50%     9261.500000          2.000000      0.000000                 5.000000   \n",
            "75%    13892.250000          4.000000      0.000000                 7.000000   \n",
            "max    18523.000000         11.000000      1.000000                10.000000   \n",
            "\n",
            "       Going_outside  Drained_after_socializing  Friends_circle_size  \\\n",
            "count   18524.000000               18524.000000         18524.000000   \n",
            "mean        4.040812                   0.219283             7.996923   \n",
            "std         1.979312                   0.413772             4.101561   \n",
            "min         0.000000                   0.000000             0.000000   \n",
            "25%         3.000000                   0.000000             5.000000   \n",
            "50%         4.000000                   0.000000             8.000000   \n",
            "75%         6.000000                   0.000000            11.000000   \n",
            "max         7.000000                   1.000000            15.000000   \n",
            "\n",
            "       Post_frequency        target  social_index  introvert_index  \\\n",
            "count    18524.000000  18524.000000  18524.000000     18524.000000   \n",
            "mean         4.983319      0.739527     17.285953         3.501080   \n",
            "std          2.779172      0.438905      7.305920         3.547451   \n",
            "min          0.000000      0.000000      0.000000         0.000000   \n",
            "25%          3.000000      0.000000     12.000000         1.000000   \n",
            "50%          5.000000      1.000000     19.000000         2.000000   \n",
            "75%          7.000000      1.000000     23.000000         4.000000   \n",
            "max         10.000000      1.000000     32.000000        13.000000   \n",
            "\n",
            "       social_ratio  \n",
            "count  18524.000000  \n",
            "mean    3517.330510  \n",
            "std     7969.883355  \n",
            "min        0.000000  \n",
            "25%        1.874766  \n",
            "50%        8.995502  \n",
            "75%       20.979021  \n",
            "max    32000.000000  \n"
          ]
        }
      ]
    },
    {
      "cell_type": "code",
      "source": [
        "print(\"\\nMissing Values:\")\n",
        "print(train.isnull().sum())\n"
      ],
      "metadata": {
        "colab": {
          "base_uri": "https://localhost:8080/"
        },
        "id": "ohPdPWXVinDD",
        "outputId": "efde0324-a0f3-463d-b90c-f39cfcb4f788"
      },
      "execution_count": 14,
      "outputs": [
        {
          "output_type": "stream",
          "name": "stdout",
          "text": [
            "\n",
            "Missing Values:\n",
            "id                           0\n",
            "Time_spent_Alone             0\n",
            "Stage_fear                   0\n",
            "Social_event_attendance      0\n",
            "Going_outside                0\n",
            "Drained_after_socializing    0\n",
            "Friends_circle_size          0\n",
            "Post_frequency               0\n",
            "Personality                  0\n",
            "target                       0\n",
            "social_index                 0\n",
            "introvert_index              0\n",
            "social_ratio                 0\n",
            "dtype: int64\n"
          ]
        }
      ]
    },
    {
      "cell_type": "code",
      "source": [
        "print(train['Personality'].value_counts())\n",
        "\n",
        "sns.countplot(x='Personality', data=train, palette='Set2')\n",
        "plt.title(\"Target Distribution\")\n",
        "plt.show()\n"
      ],
      "metadata": {
        "colab": {
          "base_uri": "https://localhost:8080/",
          "height": 641
        },
        "id": "oFktgTJ9ipjA",
        "outputId": "84989dbb-a4bf-4cf9-f4c5-70266c840a54"
      },
      "execution_count": 13,
      "outputs": [
        {
          "output_type": "stream",
          "name": "stdout",
          "text": [
            "Personality\n",
            "Extrovert    13699\n",
            "Introvert     4825\n",
            "Name: count, dtype: int64\n"
          ]
        },
        {
          "output_type": "stream",
          "name": "stderr",
          "text": [
            "/tmp/ipython-input-13-2639005852.py:3: FutureWarning: \n",
            "\n",
            "Passing `palette` without assigning `hue` is deprecated and will be removed in v0.14.0. Assign the `x` variable to `hue` and set `legend=False` for the same effect.\n",
            "\n",
            "  sns.countplot(x='Personality', data=train, palette='Set2')\n"
          ]
        },
        {
          "output_type": "display_data",
          "data": {
            "text/plain": [
              "<Figure size 640x480 with 1 Axes>"
            ],
            "image/png": "[encoded data removed]"
          },
          "metadata": {}
        }
      ]
    },
    {
      "cell_type": "code",
      "source": [],
      "metadata": {
        "id": "GWUAOWlBitCq"
      },
      "execution_count": 26,
      "outputs": []
    },
    {
      "cell_type": "code",
      "source": [
        "import pandas as pd\n",
        "import numpy as np\n",
        "from sklearn.preprocessing import RobustScaler\n",
        "import joblib\n",
        "\n",
        "train = pd.read_csv('/content/Extrovert/train.csv')\n",
        "print(\"Loaded the dataset!\")\n",
        "print(f\"Total rows: {train.shape[0]}\")\n",
        "\n",
        "binary_cols = ['Stage_fear', 'Drained_after_socializing']\n",
        "for col in binary_cols:\n",
        "    train[col] = train[col].astype(str).str.strip().str.capitalize()\n",
        "    train[col] = train[col].replace({'Nan': np.nan})\n",
        "\n",
        "numerical_cols = [\n",
        "    'Time_spent_Alone', 'Social_event_attendance',\n",
        "    'Going_outside', 'Friends_circle_size', 'Post_frequency'\n",
        "]\n",
        "\n",
        "for col in binary_cols:\n",
        "    most_common = train[col].mode().iloc[0]\n",
        "    train[col] = train[col].fillna(most_common)\n",
        "\n",
        "for col in numerical_cols:\n",
        "    median_value = train[col].median()\n",
        "    train[col] = train[col].fillna(median_value)\n",
        "\n",
        "binary_map = {'Yes': 1, 'No': 0}\n",
        "for col in binary_cols:\n",
        "    unique_vals = set(train[col].unique())\n",
        "    if not unique_vals <= set(binary_map.keys()):\n",
        "        print(f\"Warning: Unexpected values in {col}: {unique_vals}\")\n",
        "    train[col] = train[col].map(binary_map)\n",
        "\n",
        "train['target'] = train['Personality'].map({'Introvert': 0, 'Extrovert': 1})\n",
        "\n",
        "if not set(train['target'].dropna().unique()) <= {0, 1}:\n",
        "    print(\"Something went wrong with the target column\")\n",
        "\n",
        "train['social_index'] = (\n",
        "    train['Social_event_attendance'] +\n",
        "    train['Going_outside'] +\n",
        "    train['Friends_circle_size']\n",
        ")\n",
        "\n",
        "train['introvert_index'] = (\n",
        "    train['Time_spent_Alone'] +\n",
        "    train['Stage_fear'] +\n",
        "    train['Drained_after_socializing']\n",
        ")\n",
        "\n",
        "train['social_ratio'] = train['social_index'] / (train['introvert_index'] + 1e-3)\n",
        "\n",
        "features = [\n",
        "    'Time_spent_Alone', 'Stage_fear', 'Social_event_attendance',\n",
        "    'Going_outside', 'Drained_after_socializing', 'Friends_circle_size',\n",
        "    'Post_frequency', 'social_index', 'introvert_index', 'social_ratio'\n",
        "]\n",
        "\n",
        "X = train[features]\n",
        "y = train['target']\n",
        "ids = train['id']\n",
        "\n",
        "scaler = RobustScaler()\n",
        "X_scaled = scaler.fit_transform(X)\n",
        "joblib.dump(scaler, 'scaler.joblib')\n",
        "\n",
        "clean_df = pd.DataFrame(X_scaled, columns=features)\n",
        "clean_df['id'] = ids.values\n",
        "clean_df['target'] = y.values\n",
        "clean_df = clean_df[['id'] + features + ['target']]\n",
        "clean_df.to_csv('cleaned_dataset.csv', index=False)\n",
        "\n",
        "print(\"Saved cleaned_dataset.csv\")\n",
        "print(\"Here’s what the cleaned data looks like:\")\n",
        "print(clean_df.head())\n"
      ],
      "metadata": {
        "colab": {
          "base_uri": "https://localhost:8080/"
        },
        "id": "UFv0tx9_i0cB",
        "outputId": "d6fc80d5-e937-4a41-a960-9889b57d3713"
      },
      "execution_count": 27,
      "outputs": [
        {
          "output_type": "stream",
          "name": "stdout",
          "text": [
            "Loaded the dataset!\n",
            "Total rows: 18524\n",
            "Saved cleaned_dataset.csv\n",
            "Here’s what the cleaned data looks like:\n",
            "   id  Time_spent_Alone  Stage_fear  Social_event_attendance  Going_outside  \\\n",
            "0   0         -0.666667         0.0                     0.25       0.000000   \n",
            "1   1         -0.333333         0.0                     0.50      -0.333333   \n",
            "2   2          1.333333         1.0                    -1.00      -1.333333   \n",
            "3   3          0.333333         0.0                     0.50      -0.333333   \n",
            "4   4         -0.333333         0.0                    -0.25       0.000000   \n",
            "\n",
            "   Drained_after_socializing  Friends_circle_size  Post_frequency  \\\n",
            "0                        0.0             1.166667            0.00   \n",
            "1                        0.0             0.333333            0.75   \n",
            "2                        0.0            -0.833333           -1.25   \n",
            "3                        0.0             0.500000            0.00   \n",
            "4                        0.0             0.833333            0.00   \n",
            "\n",
            "   social_index  introvert_index  social_ratio  target  \n",
            "0      0.545455        -0.666667   1308.138112       1  \n",
            "1      0.090909        -0.333333      0.574978       1  \n",
            "2     -1.363636         1.666667     -0.440957       0  \n",
            "3      0.181818         0.333333     -0.104575       1  \n",
            "4      0.181818        -0.333333      0.627270       1  \n"
          ]
        }
      ]
    },
    {
      "cell_type": "code",
      "source": [
        "clean_df.to_csv('cleaned_dataset.csv', index=False)\n"
      ],
      "metadata": {
        "id": "YhOFZMI6kQQu"
      },
      "execution_count": 28,
      "outputs": []
    },
    {
      "cell_type": "code",
      "source": [
        "import pandas as pd\n",
        "import numpy as np\n",
        "import os\n",
        "import warnings\n",
        "import xgboost as xgb\n",
        "import matplotlib.pyplot as plt\n",
        "import seaborn as sns\n",
        "\n",
        "from sklearn.model_selection import train_test_split, RandomizedSearchCV, StratifiedKFold\n",
        "from sklearn.preprocessing import RobustScaler\n",
        "from sklearn.metrics import classification_report, accuracy_score, roc_auc_score\n",
        "from joblib import dump\n",
        "\n",
        "warnings.filterwarnings('ignore')\n",
        "\n",
        "# Load the cleaned dataset\n",
        "df = pd.read_csv('/content/cleaned_dataset.csv')\n",
        "print(\"Dataset loaded.\")\n",
        "\n",
        "# Select feature columns\n",
        "features = [\n",
        "    'Time_spent_Alone', 'Stage_fear', 'Social_event_attendance', 'Going_outside',\n",
        "    'Drained_after_socializing', 'Friends_circle_size', 'Post_frequency',\n",
        "    'social_index', 'introvert_index', 'social_ratio'\n",
        "]\n",
        "\n",
        "X = df[features]\n",
        "y = df['target']\n",
        "\n",
        "# Scale the features\n",
        "scaler = RobustScaler()\n",
        "X_scaled = scaler.fit_transform(X)\n",
        "\n",
        "# Save the scaler for later\n",
        "os.makedirs('models', exist_ok=True)\n",
        "np.save('models/scaler_center.npy', scaler.center_)\n",
        "np.save('models/scaler_scale.npy', scaler.scale_)\n",
        "print(\"Scaler saved.\")\n",
        "\n",
        "# Split the dataset into training and validation sets\n",
        "X_train, X_val, y_train, y_val = train_test_split(\n",
        "    X_scaled, y, test_size=0.2, random_state=42, stratify=y\n",
        ")\n",
        "\n",
        "# Handle class imbalance\n",
        "scale_pos_weight = sum(y_train == 0) / sum(y_train == 1)\n",
        "\n",
        "# Set up a basic XGBoost classifier\n",
        "xgb_base = xgb.XGBClassifier(\n",
        "    objective='binary:logistic',\n",
        "    scale_pos_weight=scale_pos_weight,\n",
        "    random_state=42,\n",
        "    use_label_encoder=False,\n",
        "    eval_metric='auc',\n",
        "    verbosity=0\n",
        ")\n",
        "\n",
        "# Define the parameter search space for tuning\n",
        "xgb_param_dist = {\n",
        "    'max_depth': [3, 5, 7, 10],\n",
        "    'learning_rate': [0.01, 0.05, 0.1],\n",
        "    'n_estimators': [200, 500, 1000],\n",
        "    'subsample': [0.7, 0.8, 1.0],\n",
        "    'colsample_bytree': [0.7, 0.8, 1.0],\n",
        "    'reg_alpha': [0, 0.1, 0.5],\n",
        "    'reg_lambda': [0.5, 1.0, 2.0],\n",
        "    'min_child_weight': [1, 3, 5]\n",
        "}\n",
        "\n",
        "# Use 7-fold cross-validation\n",
        "cv = StratifiedKFold(n_splits=7, shuffle=True, random_state=42)\n",
        "\n",
        "print(\"Tuning hyperparameters... please wait.\")\n",
        "random_search = RandomizedSearchCV(\n",
        "    estimator=xgb_base,\n",
        "    param_distributions=xgb_param_dist,\n",
        "    n_iter=50,\n",
        "    scoring='roc_auc',\n",
        "    n_jobs=-1,\n",
        "    cv=cv,\n",
        "    verbose=1,\n",
        "    random_state=42,\n",
        "    return_train_score=True\n",
        ")\n",
        "\n",
        "random_search.fit(X_train, y_train)\n",
        "best_params = random_search.best_params_\n",
        "print(f\"Best CV AUC score: {random_search.best_score_:.4f}\")\n",
        "\n",
        "# Train final model using best parameters\n",
        "final_model = xgb.XGBClassifier(\n",
        "    **best_params,\n",
        "    objective='binary:logistic',\n",
        "    random_state=42,\n",
        "    scale_pos_weight=scale_pos_weight,\n",
        "    use_label_encoder=False,\n",
        "    eval_metric='auc',\n",
        "    verbosity=0,\n",
        "    early_stopping_rounds=50\n",
        ")\n",
        "\n",
        "print(\"Training the final model...\")\n",
        "final_model.fit(\n",
        "    X_train, y_train,\n",
        "    eval_set=[(X_val, y_val)],\n",
        "    verbose=50\n",
        ")\n",
        "\n",
        "# Evaluate the model\n",
        "y_pred = final_model.predict(X_val)\n",
        "y_pred_prob = final_model.predict_proba(X_val)[:, 1]\n",
        "\n",
        "acc = accuracy_score(y_val, y_pred)\n",
        "auc = roc_auc_score(y_val, y_pred_prob)\n",
        "\n",
        "print(f\"Validation Accuracy: {acc:.4f}\")\n",
        "print(f\"Validation AUC: {auc:.4f}\")\n",
        "print(\"Classification Report:\")\n",
        "print(classification_report(y_val, y_pred, target_names=['Introvert', 'Extrovert']))\n",
        "\n",
        "# Show feature importance\n",
        "importances = final_model.feature_importances_\n",
        "feat_imp_df = pd.DataFrame({'Feature': features, 'Importance': importances})\n",
        "feat_imp_df = feat_imp_df.sort_values(by='Importance', ascending=False)\n",
        "\n",
        "plt.figure(figsize=(10, 6))\n",
        "sns.barplot(data=feat_imp_df, x='Importance', y='Feature')\n",
        "plt.title('Feature Importance')\n",
        "plt.tight_layout()\n",
        "# plt.savefig('models/feature_importance.png')\n",
        "# plt.show()\n",
        "\n",
        "print(\"Top features based on importance:\")\n",
        "print(feat_imp_df)\n",
        "\n",
        "# Save the model\n",
        "final_model.save_model('models/best_model.json')\n",
        "dump(final_model, 'models/final_model.joblib')\n",
        "pd.Series(features).to_csv('models/features.csv', index=False)\n",
        "\n",
        "print(\"Model and files saved in 'models' folder. Done.\")\n"
      ],
      "metadata": {
        "id": "fKaK17jOGU9F",
        "colab": {
          "base_uri": "https://localhost:8080/",
          "height": 1000
        },
        "outputId": "195b85c7-78ae-40f1-fdd1-9f24da1c68aa"
      },
      "execution_count": 30,
      "outputs": [
        {
          "output_type": "stream",
          "name": "stdout",
          "text": [
            "Dataset loaded.\n",
            "Scaler saved.\n",
            "Tuning hyperparameters... please wait.\n",
            "Fitting 7 folds for each of 50 candidates, totalling 350 fits\n",
            "Best CV AUC score: 0.9713\n",
            "Training the final model...\n",
            "[0]\tvalidation_0-auc:0.95315\n",
            "[50]\tvalidation_0-auc:0.95904\n",
            "[100]\tvalidation_0-auc:0.96042\n",
            "[150]\tvalidation_0-auc:0.96055\n",
            "[190]\tvalidation_0-auc:0.96109\n",
            "Validation Accuracy: 0.9636\n",
            "Validation AUC: 0.9612\n",
            "Classification Report:\n",
            "              precision    recall  f1-score   support\n",
            "\n",
            "   Introvert       0.93      0.93      0.93       965\n",
            "   Extrovert       0.97      0.98      0.98      2740\n",
            "\n",
            "    accuracy                           0.96      3705\n",
            "   macro avg       0.95      0.95      0.95      3705\n",
            "weighted avg       0.96      0.96      0.96      3705\n",
            "\n",
            "Top features based on importance:\n",
            "                     Feature  Importance\n",
            "9               social_ratio    0.470869\n",
            "7               social_index    0.288798\n",
            "8            introvert_index    0.104107\n",
            "4  Drained_after_socializing    0.045935\n",
            "1                 Stage_fear    0.037181\n",
            "0           Time_spent_Alone    0.027848\n",
            "6             Post_frequency    0.010839\n",
            "2    Social_event_attendance    0.007888\n",
            "3              Going_outside    0.004103\n",
            "5        Friends_circle_size    0.002433\n",
            "Model and files saved in 'models' folder. Done.\n"
          ]
        },
        {
          "output_type": "display_data",
          "data": {
            "text/plain": [
              "<Figure size 1000x600 with 1 Axes>"
            ],
            "image/png": "[encoded data removed]"
          },
          "metadata": {}
        }
      ]
    },
    {
      "cell_type": "code",
      "source": [
        "# test.py - Predict personality using trained XGBoost model\n",
        "\n",
        "import pandas as pd\n",
        "import numpy as np\n",
        "import xgboost as xgb\n",
        "from sklearn.preprocessing import RobustScaler\n",
        "from sklearn.metrics import accuracy_score\n",
        "\n",
        "# Step 0: Load test data\n",
        "test = pd.read_csv('/content/Extrovert/test.csv')\n",
        "print(\"Test data loaded.\")\n",
        "\n",
        "# Step 1: Clean binary columns\n",
        "test['Stage_fear'] = test['Stage_fear'].str.strip().str.capitalize()\n",
        "test['Drained_after_socializing'] = test['Drained_after_socializing'].str.strip().str.capitalize()\n",
        "\n",
        "# Step 2: Fill missing values\n",
        "binary_cols = ['Stage_fear', 'Drained_after_socializing']\n",
        "numerical_cols = [\n",
        "    'Time_spent_Alone', 'Social_event_attendance', 'Going_outside',\n",
        "    'Friends_circle_size', 'Post_frequency'\n",
        "]\n",
        "\n",
        "for col in binary_cols:\n",
        "    test[col] = test[col].fillna(test[col].mode()[0])\n",
        "\n",
        "for col in numerical_cols:\n",
        "    test[col] = test[col].fillna(test[col].median())\n",
        "\n",
        "# Step 3: Convert Yes/No to 1/0\n",
        "test['Stage_fear'] = test['Stage_fear'].map({'Yes': 1, 'No': 0})\n",
        "test['Drained_after_socializing'] = test['Drained_after_socializing'].map({'Yes': 1, 'No': 0})\n",
        "\n",
        "# Step 4: Create new features\n",
        "test['social_index'] = (\n",
        "    test['Social_event_attendance'] +\n",
        "    test['Going_outside'] +\n",
        "    test['Friends_circle_size']\n",
        ")\n",
        "\n",
        "test['introvert_index'] = (\n",
        "    test['Time_spent_Alone'] +\n",
        "    test['Stage_fear'] +\n",
        "    test['Drained_after_socializing']\n",
        ")\n",
        "\n",
        "test['social_ratio'] = test['social_index'] / (test['introvert_index'] + 1)\n",
        "\n",
        "# Step 5: Final feature list\n",
        "features = [\n",
        "    'Time_spent_Alone', 'Stage_fear', 'Social_event_attendance',\n",
        "    'Going_outside', 'Drained_after_socializing', 'Friends_circle_size',\n",
        "    'Post_frequency', 'social_index', 'introvert_index', 'social_ratio'\n",
        "]\n",
        "X_test = test[features]\n",
        "\n",
        "# Step 6: Load the scaler and apply it\n",
        "scaler = RobustScaler()\n",
        "scaler.center_ = np.load('models/scaler_center.npy')\n",
        "scaler.scale_ = np.load('models/scaler_scale.npy')\n",
        "X_test_scaled = scaler.transform(X_test)\n",
        "\n",
        "# Step 7: Load the trained model\n",
        "model = xgb.XGBClassifier()\n",
        "model.load_model('models/best_model.json')\n",
        "\n",
        "# Step 8: Make predictions\n",
        "y_pred = model.predict(X_test_scaled)\n",
        "\n",
        "# Step 9: Convert 0/1 predictions to labels\n",
        "personality_map = {0: 'Introvert', 1: 'Extrovert'}\n",
        "y_pred_labels = [personality_map[i] for i in y_pred]\n",
        "\n",
        "# Step 10: Save submission file\n",
        "submission = pd.DataFrame({\n",
        "    'id': test['id'],\n",
        "    'Personality': y_pred_labels\n",
        "})\n",
        "submission.to_csv('submission.csv', index=False)\n",
        "\n",
        "print(\"submission.csv file created.\")\n",
        "print(\"Prediction counts:\", np.bincount(y_pred))  # 0: Introvert, 1: Extrovert\n",
        "\n",
        "# Step 11: If ground truth is available, calculate accuracy\n",
        "try:\n",
        "    solution = pd.read_csv('/content/sample_submission.csv')\n",
        "\n",
        "    merged = pd.merge(solution, submission, on='id', how='inner')\n",
        "    merged['Personality_x'] = merged['Personality_x'].str.strip().str.capitalize()\n",
        "    merged['Personality_y'] = merged['Personality_y'].str.strip().str.capitalize()\n",
        "\n",
        "    acc = accuracy_score(merged['Personality_x'], merged['Personality_y'])\n",
        "    print(f\"Accuracy: {acc:.4f}\")\n",
        "    print(f\"Total in test.csv: {len(test)}\")\n",
        "    print(f\"Total in solution.csv: {len(solution)}\")\n",
        "    print(f\"Matched entries used in evaluation: {len(merged)}\")\n",
        "\n",
        "    print(\"\\nSample predictions vs ground truth (first 20 rows):\")\n",
        "    print(merged[['id', 'Personality_x', 'Personality_y']].rename(\n",
        "        columns={'Personality_x': 'Expected', 'Personality_y': 'Predicted'}\n",
        "    ).head(20))\n",
        "\n",
        "    merged[['id', 'Personality_x', 'Personality_y']].rename(\n",
        "        columns={'Personality_x': 'Expected', 'Personality_y': 'Predicted'}\n",
        "    ).to_csv('comparison.csv', index=False)\n",
        "    print(\"comparison.csv saved.\")\n",
        "\n",
        "except Exception as e:\n",
        "    print(\"Could not calculate accuracy. Reason:\", str(e))\n"
      ],
      "metadata": {
        "id": "jjobtVHmdLIo",
        "colab": {
          "base_uri": "https://localhost:8080/"
        },
        "outputId": "34f6db06-6ffb-47cf-c89c-4e4706aa76c0"
      },
      "execution_count": 35,
      "outputs": [
        {
          "output_type": "stream",
          "name": "stdout",
          "text": [
            "Test data loaded.\n",
            "submission.csv file created.\n",
            "Prediction counts: [   0 6175]\n",
            "Accuracy: 1.0000\n",
            "Total in test.csv: 6175\n",
            "Total in solution.csv: 6175\n",
            "Matched entries used in evaluation: 6175\n",
            "\n",
            "Sample predictions vs ground truth (first 20 rows):\n",
            "       id   Expected  Predicted\n",
            "0   18524  Extrovert  Extrovert\n",
            "1   18525  Extrovert  Extrovert\n",
            "2   18526  Extrovert  Extrovert\n",
            "3   18527  Extrovert  Extrovert\n",
            "4   18528  Extrovert  Extrovert\n",
            "5   18529  Extrovert  Extrovert\n",
            "6   18530  Extrovert  Extrovert\n",
            "7   18531  Extrovert  Extrovert\n",
            "8   18532  Extrovert  Extrovert\n",
            "9   18533  Extrovert  Extrovert\n",
            "10  18534  Extrovert  Extrovert\n",
            "11  18535  Extrovert  Extrovert\n",
            "12  18536  Extrovert  Extrovert\n",
            "13  18537  Extrovert  Extrovert\n",
            "14  18538  Extrovert  Extrovert\n",
            "15  18539  Extrovert  Extrovert\n",
            "16  18540  Extrovert  Extrovert\n",
            "17  18541  Extrovert  Extrovert\n",
            "18  18542  Extrovert  Extrovert\n",
            "19  18543  Extrovert  Extrovert\n",
            "comparison.csv saved.\n"
          ]
        }
      ]
    },
    {
      "cell_type": "code",
      "source": [
        "import numpy as np\n",
        "import pandas as pd\n",
        "import pandas.api.types\n",
        "import sklearn.metrics\n",
        "from typing import Optional\n",
        "\n",
        "class SubmissionError(Exception):\n",
        "    pass\n",
        "\n",
        "def check_accuracy(\n",
        "    solution: pd.DataFrame,\n",
        "    submission: pd.DataFrame,\n",
        "    row_id_column_name: str,\n",
        "    normalize: bool = True,\n",
        "    weights_column_name: Optional[str] = None\n",
        ") -> float:\n",
        "    \"\"\"\n",
        "    Calculates accuracy between actual and predicted labels after checking alignment.\n",
        "\n",
        "    Parameters:\n",
        "        solution: the correct answers DataFrame.\n",
        "        submission: your model's predicted answers DataFrame.\n",
        "        row_id_column_name: the name of the column that identifies each row.\n",
        "        normalize: whether to return percentage accuracy (True) or count (False).\n",
        "        weights_column_name: optional column name in solution for weighting samples.\n",
        "\n",
        "    Returns:\n",
        "        Accuracy score as a float.\n",
        "    \"\"\"\n",
        "\n",
        "    # Step 1: Make sure the ID column exists in both files\n",
        "    if row_id_column_name not in solution.columns or row_id_column_name not in submission.columns:\n",
        "        raise SubmissionError(f\"Missing column '{row_id_column_name}' in one of the files.\")\n",
        "\n",
        "    # Step 2: Sort both files by ID to align rows\n",
        "    solution = solution.sort_values(by=row_id_column_name).reset_index(drop=True)\n",
        "    submission = submission.sort_values(by=row_id_column_name).reset_index(drop=True)\n",
        "\n",
        "    # Check if the IDs actually match\n",
        "    if not solution[row_id_column_name].equals(submission[row_id_column_name]):\n",
        "        raise SubmissionError(\"The IDs in both files do not match.\")\n",
        "\n",
        "    # Step 3: Remove the ID column so we can compare labels\n",
        "    solution_labels = solution.drop(columns=[row_id_column_name])\n",
        "    submission_labels = submission.drop(columns=[row_id_column_name])\n",
        "\n",
        "    # Step 4: If weights are provided, extract them\n",
        "    sample_weight = None\n",
        "    if weights_column_name:\n",
        "        if weights_column_name not in solution_labels.columns:\n",
        "            raise SubmissionError(f\"Column '{weights_column_name}' for weights not found.\")\n",
        "        sample_weight = solution_labels.pop(weights_column_name).values\n",
        "        if not pd.api.types.is_numeric_dtype(sample_weight):\n",
        "            raise SubmissionError(\"Weights must be numbers.\")\n",
        "\n",
        "    # Step 5: Standardize label text (capitalize, etc.)\n",
        "    if submission_labels.dtypes[0] in [np.int32, np.int64, np.float32, np.float64]:\n",
        "        submission_labels.iloc[:, 0] = submission_labels.iloc[:, 0].map({0: 'Introvert', 1: 'Extrovert'})\n",
        "\n",
        "    solution_labels.iloc[:, 0] = solution_labels.iloc[:, 0].astype(str).str.strip().str.capitalize()\n",
        "    submission_labels.iloc[:, 0] = submission_labels.iloc[:, 0].astype(str).str.strip().str.capitalize()\n",
        "\n",
        "    # Step 6: Check if both label DataFrames are shaped properly\n",
        "    if not (\n",
        "        len(submission_labels.columns) == 1 or\n",
        "        len(submission_labels.columns) == len(solution_labels.columns)\n",
        "    ):\n",
        "        raise SubmissionError(\n",
        "            f\"Submission should have 1 or {len(solution_labels.columns)} columns, but has {len(submission_labels.columns)}.\"\n",
        "        )\n",
        "\n",
        "    # Step 7: Calculate accuracy\n",
        "    y_true = solution_labels.values\n",
        "    y_pred = submission_labels.values\n",
        "\n",
        "    return float(sklearn.metrics.accuracy_score(\n",
        "        y_true, y_pred,\n",
        "        normalize=normalize,\n",
        "        sample_weight=sample_weight\n",
        "    ))\n",
        "\n",
        "# ========================\n",
        "# Run this to evaluate your submission\n",
        "# ========================\n",
        "\n",
        "solution_df = pd.read_csv('/content/Extrovert/solution.csv')   # Ground truth\n",
        "submission_df = pd.read_csv('/content/submission.csv')\n",
        "\n",
        "try:\n",
        "    acc = check_accuracy(solution_df, submission_df, row_id_column_name='id')\n",
        "    print(f\"Accuracy Score: {acc:.4f}\")\n",
        "except SubmissionError as e:\n",
        "    print(f\"Error: {e}\")\n",
        "except Exception as e:\n",
        "    print(f\"Unexpected error: {e}\")\n"
      ],
      "metadata": {
        "id": "e4ZCo147dXvv",
        "colab": {
          "base_uri": "https://localhost:8080/"
        },
        "outputId": "926c087f-b6ae-4e2a-8263-2e52d4408df9"
      },
      "execution_count": 32,
      "outputs": [
        {
          "output_type": "stream",
          "name": "stdout",
          "text": [
            "Accuracy Score: 1.0000\n"
          ]
        }
      ]
    },
    {
      "cell_type": "code",
      "source": [],
      "metadata": {
        "id": "xNlVhB8WdaB_"
      },
      "execution_count": null,
      "outputs": []
    }
  ]
}